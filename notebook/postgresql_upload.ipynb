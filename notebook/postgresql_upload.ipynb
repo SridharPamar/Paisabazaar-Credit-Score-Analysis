{
 "cells": [
  {
   "cell_type": "code",
   "execution_count": 1,
   "id": "e7483184",
   "metadata": {},
   "outputs": [
    {
     "name": "stdout",
     "output_type": "stream",
     "text": [
      "Requirement already satisfied: psycopg2-binary in c:\\users\\vishnu\\anaconda3\\lib\\site-packages (2.9.10)\n",
      "Requirement already satisfied: sqlalchemy in c:\\users\\vishnu\\anaconda3\\lib\\site-packages (1.4.39)\n",
      "Requirement already satisfied: greenlet!=0.4.17 in c:\\users\\vishnu\\anaconda3\\lib\\site-packages (from sqlalchemy) (1.1.1)\n"
     ]
    }
   ],
   "source": [
    "! pip install psycopg2-binary sqlalchemy\n"
   ]
  },
  {
   "cell_type": "code",
   "execution_count": 2,
   "id": "4e95f4f4",
   "metadata": {},
   "outputs": [],
   "source": [
    "import pandas as pd\n",
    "from sqlalchemy import create_engine"
   ]
  },
  {
   "cell_type": "code",
   "execution_count": 3,
   "id": "720fa72d",
   "metadata": {},
   "outputs": [],
   "source": [
    "# Load the cleaned data CSV\n",
    "df_customer_summary = pd.read_csv(r'C:\\Users\\Vishnu\\Desktop\\Paisabazaar-Dashboard\\data_cleaned\\cleaned_data.csv')"
   ]
  },
  {
   "cell_type": "code",
   "execution_count": 8,
   "id": "1b2b159c",
   "metadata": {},
   "outputs": [],
   "source": [
    "user = 'postgres'\n",
    "password = 'mamu22'\n",
    "host = 'localhost'  \n",
    "port = '5432'\n",
    "database = 'Credit_Score_Analysis'\n",
    "\n",
    "engine = create_engine(f'postgresql://{user}:{password}@{host}:{port}/{database}')\n"
   ]
  },
  {
   "cell_type": "code",
   "execution_count": 9,
   "id": "439b4d79",
   "metadata": {},
   "outputs": [
    {
     "data": {
      "text/plain": [
       "500"
      ]
     },
     "execution_count": 9,
     "metadata": {},
     "output_type": "execute_result"
    }
   ],
   "source": [
    "# Push dataframe to PostgreSQL table\n",
    "df_customer_summary.to_sql('customer_summary', engine, if_exists='replace', index=False)"
   ]
  },
  {
   "cell_type": "code",
   "execution_count": 10,
   "id": "58bad10c",
   "metadata": {},
   "outputs": [
    {
     "name": "stdout",
     "output_type": "stream",
     "text": [
      "Data pushed successfully!\n"
     ]
    }
   ],
   "source": [
    "print(\"Data pushed successfully!\")\n"
   ]
  },
  {
   "cell_type": "code",
   "execution_count": null,
   "id": "0affffc2",
   "metadata": {},
   "outputs": [
    {
     "data": {
      "text/html": [
       "<div>\n",
       "<style scoped>\n",
       "    .dataframe tbody tr th:only-of-type {\n",
       "        vertical-align: middle;\n",
       "    }\n",
       "\n",
       "    .dataframe tbody tr th {\n",
       "        vertical-align: top;\n",
       "    }\n",
       "\n",
       "    .dataframe thead th {\n",
       "        text-align: right;\n",
       "    }\n",
       "</style>\n",
       "<table border=\"1\" class=\"dataframe\">\n",
       "  <thead>\n",
       "    <tr style=\"text-align: right;\">\n",
       "      <th></th>\n",
       "      <th>Customer_ID</th>\n",
       "      <th>Name</th>\n",
       "      <th>Age</th>\n",
       "      <th>SSN</th>\n",
       "      <th>Occupation</th>\n",
       "      <th>Annual_Income</th>\n",
       "      <th>Monthly_Inhand_Salary</th>\n",
       "      <th>Num_Bank_Accounts</th>\n",
       "      <th>Num_Credit_Card</th>\n",
       "      <th>Interest_Rate</th>\n",
       "      <th>...</th>\n",
       "      <th>Credit_Mix</th>\n",
       "      <th>Outstanding_Debt</th>\n",
       "      <th>Credit_Utilization_Ratio</th>\n",
       "      <th>Credit_History_Age</th>\n",
       "      <th>Payment_of_Min_Amount</th>\n",
       "      <th>Total_EMI_per_month</th>\n",
       "      <th>Amount_invested_monthly</th>\n",
       "      <th>Payment_Behaviour</th>\n",
       "      <th>Monthly_Balance</th>\n",
       "      <th>Credit_Score</th>\n",
       "    </tr>\n",
       "  </thead>\n",
       "  <tbody>\n",
       "    <tr>\n",
       "      <th>0</th>\n",
       "      <td>1006</td>\n",
       "      <td>Matthias Blamontb</td>\n",
       "      <td>38.0</td>\n",
       "      <td>354656948.0</td>\n",
       "      <td>Journalist</td>\n",
       "      <td>16756.18</td>\n",
       "      <td>1331.348333</td>\n",
       "      <td>9.0</td>\n",
       "      <td>6.0</td>\n",
       "      <td>22.0</td>\n",
       "      <td>...</td>\n",
       "      <td>Standard</td>\n",
       "      <td>1941.73</td>\n",
       "      <td>31.727384</td>\n",
       "      <td>185.5</td>\n",
       "      <td>Yes</td>\n",
       "      <td>27.442089</td>\n",
       "      <td>45.301068</td>\n",
       "      <td>Low_spent_Small_value_payments</td>\n",
       "      <td>314.626667</td>\n",
       "      <td>Poor</td>\n",
       "    </tr>\n",
       "    <tr>\n",
       "      <th>1</th>\n",
       "      <td>1007</td>\n",
       "      <td>Soyoung Kimu</td>\n",
       "      <td>48.0</td>\n",
       "      <td>964812710.0</td>\n",
       "      <td>Manager</td>\n",
       "      <td>21212.91</td>\n",
       "      <td>1496.742500</td>\n",
       "      <td>3.0</td>\n",
       "      <td>4.0</td>\n",
       "      <td>10.0</td>\n",
       "      <td>...</td>\n",
       "      <td>Standard</td>\n",
       "      <td>993.15</td>\n",
       "      <td>36.313739</td>\n",
       "      <td>349.5</td>\n",
       "      <td>No</td>\n",
       "      <td>45.745700</td>\n",
       "      <td>30.373472</td>\n",
       "      <td>Low_spent_Small_value_payments</td>\n",
       "      <td>285.607087</td>\n",
       "      <td>Standard</td>\n",
       "    </tr>\n",
       "  </tbody>\n",
       "</table>\n",
       "<p>2 rows × 26 columns</p>\n",
       "</div>"
      ],
      "text/plain": [
       "   Customer_ID               Name   Age          SSN  Occupation  \\\n",
       "0         1006  Matthias Blamontb  38.0  354656948.0  Journalist   \n",
       "1         1007       Soyoung Kimu  48.0  964812710.0     Manager   \n",
       "\n",
       "   Annual_Income  Monthly_Inhand_Salary  Num_Bank_Accounts  Num_Credit_Card  \\\n",
       "0       16756.18            1331.348333                9.0              6.0   \n",
       "1       21212.91            1496.742500                3.0              4.0   \n",
       "\n",
       "   Interest_Rate  ...  Credit_Mix Outstanding_Debt  Credit_Utilization_Ratio  \\\n",
       "0           22.0  ...    Standard          1941.73                 31.727384   \n",
       "1           10.0  ...    Standard           993.15                 36.313739   \n",
       "\n",
       "   Credit_History_Age  Payment_of_Min_Amount  Total_EMI_per_month  \\\n",
       "0               185.5                    Yes            27.442089   \n",
       "1               349.5                     No            45.745700   \n",
       "\n",
       "  Amount_invested_monthly               Payment_Behaviour  Monthly_Balance  \\\n",
       "0               45.301068  Low_spent_Small_value_payments       314.626667   \n",
       "1               30.373472  Low_spent_Small_value_payments       285.607087   \n",
       "\n",
       "   Credit_Score  \n",
       "0          Poor  \n",
       "1      Standard  \n",
       "\n",
       "[2 rows x 26 columns]"
      ]
     },
     "execution_count": 13,
     "metadata": {},
     "output_type": "execute_result"
    }
   ],
   "source": [
    "\n",
    "\n",
    "query = \"SELECT * FROM customer_summary LIMIT 100;\"\n",
    "df = pd.read_sql(query, engine)\n",
    "df.head(2)\n"
   ]
  },
  {
   "cell_type": "code",
   "execution_count": null,
   "id": "9d7b013a",
   "metadata": {},
   "outputs": [],
   "source": []
  }
 ],
 "metadata": {
  "kernelspec": {
   "display_name": "base",
   "language": "python",
   "name": "python3"
  },
  "language_info": {
   "codemirror_mode": {
    "name": "ipython",
    "version": 3
   },
   "file_extension": ".py",
   "mimetype": "text/x-python",
   "name": "python",
   "nbconvert_exporter": "python",
   "pygments_lexer": "ipython3",
   "version": "3.9.13"
  }
 },
 "nbformat": 4,
 "nbformat_minor": 5
}
